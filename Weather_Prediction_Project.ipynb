{
  "nbformat": 4,
  "nbformat_minor": 0,
  "metadata": {
    "colab": {
      "provenance": [],
      "toc_visible": true
    },
    "kernelspec": {
      "name": "python3",
      "display_name": "Python 3"
    },
    "language_info": {
      "name": "python"
    }
  },
  "cells": [
    {
      "cell_type": "markdown",
      "source": [
        "# Weather Prediction Project"
      ],
      "metadata": {
        "id": "fK7xCcmSVsLH"
      }
    },
    {
      "cell_type": "markdown",
      "source": [
        "**Data Collection**\n",
        "-------\n",
        "We are using Python requests library to fetch weather data for Bengaluru, India.\n",
        "The retrieved data includes information such as coordinates, weather conditions (overcast clouds), temperature, humidity, wind speed, and more.\n",
        "The data is collected from the OpenWeatherMap API using API key.\n",
        "The response is in JSON format, and stored in the weather_data variable."
      ],
      "metadata": {
        "id": "IB5dz3UrWyJh"
      }
    },
    {
      "cell_type": "code",
      "execution_count": 8,
      "metadata": {
        "colab": {
          "base_uri": "https://localhost:8080/"
        },
        "id": "5GBCaYcVTRGn",
        "outputId": "a357e6ec-2dbb-42c3-b73a-504590920233"
      },
      "outputs": [
        {
          "output_type": "stream",
          "name": "stdout",
          "text": [
            "{'coord': {'lon': 77.6033, 'lat': 12.9762}, 'weather': [{'id': 804, 'main': 'Clouds', 'description': 'overcast clouds', 'icon': '04n'}], 'base': 'stations', 'main': {'temp': 297.95, 'feels_like': 297.97, 'temp_min': 296.05, 'temp_max': 297.95, 'pressure': 1018, 'humidity': 57}, 'visibility': 6000, 'wind': {'speed': 3.09, 'deg': 120}, 'clouds': {'all': 92}, 'dt': 1709402922, 'sys': {'type': 1, 'id': 9205, 'country': 'IN', 'sunrise': 1709341502, 'sunset': 1709384323}, 'timezone': 19800, 'id': 1277333, 'name': 'Bengaluru', 'cod': 200}\n"
          ]
        }
      ],
      "source": [
        "# Example 1: Data Collection\n",
        "import requests\n",
        "\n",
        "api_key = '45258b664d4abb07e2de78c2832c7703'\n",
        "city = 'Bengaluru'\n",
        "url = f'http://api.openweathermap.org/data/2.5/weather?q={city}&appid={api_key}'\n",
        "response = requests.get(url)\n",
        "weather_data = response.json()\n",
        "print(weather_data)\n"
      ]
    },
    {
      "cell_type": "markdown",
      "source": [
        "{'coord': {'lon': 77.6033, 'lat': 12.9762}, 'weather': [{'id': 804, 'main': 'Clouds', 'description': 'overcast clouds', 'icon': '04n'}], 'base': 'stations', 'main': {'temp': 297.95, 'feels_like': 297.97, 'temp_min': 296.05, 'temp_max': 297.95, 'pressure': 1018, 'humidity': 57}, 'visibility': 6000, 'wind': {'speed': 3.09, 'deg': 120}, 'clouds': {'all': 92}, 'dt': 1709402922, 'sys': {'type': 1, 'id': 9205, 'country': 'IN', 'sunrise': 1709341502, 'sunset': 1709384323}, 'timezone': 19800, 'id': 1277333, 'name': 'Bengaluru', 'cod': 200}\n",
        "\n",
        "\n",
        "---\n",
        "\n",
        "This is a JSON response from the OpenWeatherMap API for the city of Bengaluru, India. Here's what each key-value pair represents:\n",
        "\n",
        "- `coord`: The geographical coordinates of Bengaluru. `lon` is the longitude (77.6033) and `lat` is the latitude (12.9762).\n",
        "- `weather`: An array containing weather conditions. `id` is the weather condition id, `main` is the group of weather parameters (Clouds), `description` is the weather condition within the group (overcast clouds), and `icon` is the weather icon code.\n",
        "- `base`: Internal parameter.\n",
        "- `main`: Contains several values related to the weather:\n",
        "  - `temp`: The current temperature (298.91 Kelvin).\n",
        "  - `feels_like`: What the temperature feels like to the human body (298.79 Kelvin).\n",
        "  - `temp_min`: The minimum temperature (296.05 Kelvin).\n",
        "  - `temp_max`: The maximum temperature (299.75 Kelvin).\n",
        "  - `pressure`: The atmospheric pressure (1018 hPa).\n",
        "  - `humidity`: The humidity percentage (48%).\n",
        "- `visibility`: The visibility in meters (6000m).\n",
        "- `wind`: Contains information about wind conditions. `speed` is the wind speed (3.09 m/s) and `deg` is the wind direction in degrees (120°).\n",
        "- `clouds`: Contains information about cloudiness. `all` is the cloudiness percentage (92%).\n",
        "- `dt`: The time of data calculation, unix, UTC (1709401526).\n",
        "- `sys`: Contains several values:\n",
        "  - `type`: Internal parameter.\n",
        "  - `id`: Internal parameter.\n",
        "  - `country`: The country code (IN for India).\n",
        "  - `sunrise`: The time of sunrise, unix, UTC (1709341502).\n",
        "  - `sunset`: The time of sunset, unix, UTC (1709384323).\n",
        "- `timezone`: The city's timezone shift in seconds from UTC (19800 seconds).\n",
        "- `id`: The city's ID (1277333).\n",
        "- `name`: The city's name (Bengaluru).\n",
        "- `cod`: The internal parameter (200).\n",
        "\n",
        "Please note that temperatures are given in Kelvin, which is the standard unit of temperature in the physical sciences. To convert to Celsius, subtract 273.15. For Fahrenheit, first subtract 273.15 and then multiply by 9/5 and add 32. The pressure is given in hPa (hectopascals), which is a commonly used unit in meteorology. The wind speed is given in meters per second. The visibility is given in meters. The time of sunrise and sunset is given in Unix time (seconds since 1970-01-01 00:00:00 UTC). The timezone shift is given in seconds from UTC. The city's ID is a unique identifier used by OpenWeatherMap. The `cod` is the HTTP status code. A `cod` of 200 means the request was successful. The other fields are self-explanatory."
      ],
      "metadata": {
        "id": "pOtia1YsXm8L"
      }
    },
    {
      "cell_type": "markdown",
      "source": [],
      "metadata": {
        "id": "KknUhjtMYDKf"
      }
    },
    {
      "cell_type": "markdown",
      "source": [
        "# Data Processing and Analysis"
      ],
      "metadata": {
        "id": "qrXgeJSBYFX2"
      }
    },
    {
      "cell_type": "markdown",
      "source": [
        "We are creating a simple Random Forest Regressor model using the Random Forest Regressor class from the sklearn library.\n",
        "\n",
        "The model is trained on example data with features representing temperature and humidity (X) and corresponding labels (y) for weather prediction.\n",
        "\n",
        "In this case, we are predicting the weather for a feature vector of [27, 68] (temperature 27°C and humidity 68%).\n",
        "\n",
        "The predicted weather value is approximately 2.2 (you can interpret this based on your label encoding).\n",
        "\n",
        "If Linear Regression is used we get the predicted weather value as 2.6"
      ],
      "metadata": {
        "id": "o_4SXLWhYKj9"
      }
    },
    {
      "cell_type": "code",
      "source": [
        "# Example 2: Data Processing and Analysis\n",
        "from sklearn.ensemble import RandomForestRegressor\n",
        "import numpy as np\n",
        "\n",
        "# Create a Random Forest Regressor model\n",
        "model_rf = RandomForestRegressor(n_estimators=100, random_state=42)\n",
        "\n",
        "# Train the model on the example data\n",
        "model_rf.fit(X, y)\n",
        "\n",
        "# Predict the weather for a feature vector of [27, 68]\n",
        "prediction_rf = model_rf.predict([[27, 68]])\n",
        "\n",
        "# Print the predicted weather using Random Forest\n",
        "print('Predicted Weather (Random Forest):', prediction_rf[0])\n",
        "\n",
        "\n",
        "#IF USING LINEAR REGRESSION UNCOMMENT THE BELOW\n",
        "\n",
        "#from sklearn.linear_model import LinearRegression\n",
        "#import numpy as np\n",
        "#X = np.array([[25, 60], [28, 65], [30, 70]])  # Example data (features: temperature, humidity)\n",
        "#y = np.array([1, 2, 3])  # Example labels (weather prediction)\n",
        "#model = LinearRegression()\n",
        "#model.fit(X, y)\n",
        "#prediction = model.predict([[27, 68]])  # Replace with actual feature values\n",
        "#print('Predicted Weather:', prediction)\n"
      ],
      "metadata": {
        "colab": {
          "base_uri": "https://localhost:8080/"
        },
        "id": "tigbEpT9TnT9",
        "outputId": "a0b95b76-55a2-49f0-f42e-2b12deb1b8f6"
      },
      "execution_count": 10,
      "outputs": [
        {
          "output_type": "stream",
          "name": "stdout",
          "text": [
            "Predicted Weather (Random Forest): 2.2\n"
          ]
        }
      ]
    },
    {
      "cell_type": "markdown",
      "source": [
        "# Data Storage"
      ],
      "metadata": {
        "id": "zL-BGvFbaQ8b"
      }
    },
    {
      "cell_type": "markdown",
      "source": [
        "We are mounting our Google Drive to save the weather data as a text file named “weather_data.txt”.\n",
        "\n",
        "The file contains the JSON representation of the weather data retrieved earlier."
      ],
      "metadata": {
        "id": "81RgpeyqaUbm"
      }
    },
    {
      "cell_type": "code",
      "source": [
        "# Example 3: Data Storage\n",
        "from google.colab import drive\n",
        "\n",
        "drive.mount('/content/gdrive')\n",
        "with open('/content/gdrive/My Drive/weather_data.txt', 'w') as file:\n",
        "    file.write(str(weather_data))\n"
      ],
      "metadata": {
        "colab": {
          "base_uri": "https://localhost:8080/"
        },
        "id": "Dzy3FtebTv8x",
        "outputId": "588b6ddb-1d5e-4c64-b3d2-03e0c371b5c7"
      },
      "execution_count": 11,
      "outputs": [
        {
          "output_type": "stream",
          "name": "stdout",
          "text": [
            "Drive already mounted at /content/gdrive; to attempt to forcibly remount, call drive.mount(\"/content/gdrive\", force_remount=True).\n"
          ]
        }
      ]
    },
    {
      "cell_type": "markdown",
      "source": [
        "# User Interface Enhancement"
      ],
      "metadata": {
        "id": "irH9DIV8apCv"
      }
    },
    {
      "cell_type": "markdown",
      "source": [
        "We have used Matplotlib to create a line plot showing temperature trends over three days.\n",
        "\n",
        "The x-axis represents days (labeled 1, 2, 3), and the y-axis represents temperature (25°C, 28°C, 30°C).\n",
        "\n",
        "The plot title is “Temperature Trends”."
      ],
      "metadata": {
        "id": "pdfblQzxaqi2"
      }
    },
    {
      "cell_type": "code",
      "source": [
        "# Example 4: User Interface Enhancement\n",
        "import matplotlib.pyplot as plt\n",
        "\n",
        "plt.plot([1, 2, 3], [25, 28, 30], marker='o')\n",
        "plt.xlabel('Days')\n",
        "plt.ylabel('Temperature')\n",
        "plt.title('Temperature Trends')\n",
        "plt.show()\n"
      ],
      "metadata": {
        "colab": {
          "base_uri": "https://localhost:8080/",
          "height": 472
        },
        "id": "jyTS0CsLUMk3",
        "outputId": "3a78dbaa-ba5e-4dce-9a66-325299bb00dc"
      },
      "execution_count": 12,
      "outputs": [
        {
          "output_type": "display_data",
          "data": {
            "text/plain": [
              "<Figure size 640x480 with 1 Axes>"
            ],
            "image/png": "[encoded data removed]"
          },
          "metadata": {}
        }
      ]
    }
  ]
}